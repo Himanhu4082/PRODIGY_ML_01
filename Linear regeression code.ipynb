{
  "nbformat": 4,
  "nbformat_minor": 0,
  "metadata": {
    "colab": {
      "provenance": []
    },
    "kernelspec": {
      "name": "python3",
      "display_name": "Python 3"
    },
    "language_info": {
      "name": "python"
    }
  },
  "cells": [
    {
      "cell_type": "code",
      "execution_count": null,
      "metadata": {
        "id": "ctB9FMrCdXuU"
      },
      "outputs": [],
      "source": [
        "# Step 1: Import Libraries\n",
        "import pandas as pd\n",
        "import numpy as np\n",
        "import matplotlib.pyplot as plt\n",
        "import seaborn as sns\n",
        "\n",
        "from sklearn.model_selection import train_test_split\n",
        "from sklearn.linear_model import LinearRegression\n",
        "from sklearn.metrics import mean_squared_error, r2_score\n"
      ]
    },
    {
      "cell_type": "code",
      "source": [
        "# Step 2: Load the Dataset\n",
        "data = pd.read_csv(\"train.csv\")\n",
        "data.head()\n"
      ],
      "metadata": {
        "id": "C13avN5pkd_2"
      },
      "execution_count": null,
      "outputs": []
    },
    {
      "cell_type": "code",
      "source": [
        "# Step 3: Select Relevant Features\n",
        "df = data[['GrLivArea', 'BedroomAbvGr', 'FullBath', 'HalfBath', 'SalePrice']]\n",
        "df.dropna(inplace=True)\n"
      ],
      "metadata": {
        "id": "uaIZJA4gkgh-"
      },
      "execution_count": null,
      "outputs": []
    },
    {
      "cell_type": "code",
      "source": [
        "# Step 4: Define Features and Target\n",
        "X = df[['GrLivArea', 'BedroomAbvGr', 'FullBath', 'HalfBath']]\n",
        "y = df['SalePrice']\n",
        "\n",
        "# Train-Test Split\n",
        "X_train, X_test, y_train, y_test = train_test_split(X, y, test_size=0.2, random_state=42)\n"
      ],
      "metadata": {
        "id": "wye7tLYMkkYd"
      },
      "execution_count": null,
      "outputs": []
    },
    {
      "cell_type": "code",
      "source": [
        "# Step 5: Train the Linear Regression Model\n",
        "model = LinearRegression()\n",
        "model.fit(X_train, y_train)\n"
      ],
      "metadata": {
        "id": "osbfa1pYkmu2"
      },
      "execution_count": null,
      "outputs": []
    },
    {
      "cell_type": "code",
      "source": [
        "# Step 6: Make Predictions\n",
        "y_pred = model.predict(X_test)\n",
        "\n",
        "# Step 7: Evaluate\n",
        "print(\"R^2 Score:\", r2_score(y_test, y_pred))\n",
        "print(\"MSE:\", mean_squared_error(y_test, y_pred))\n"
      ],
      "metadata": {
        "id": "4L4N-6hYkqvm"
      },
      "execution_count": null,
      "outputs": []
    },
    {
      "cell_type": "code",
      "source": [
        "# Step 8: Plot Actual vs Predicted\n",
        "plt.scatter(y_test, y_pred)\n",
        "plt.xlabel(\"Actual Sale Price\")\n",
        "plt.ylabel(\"Predicted Sale Price\")\n",
        "plt.title(\"Actual vs Predicted Prices\")\n",
        "plt.show()\n"
      ],
      "metadata": {
        "id": "oqaInZOhktAR"
      },
      "execution_count": null,
      "outputs": []
    }
  ]
}